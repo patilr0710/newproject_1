{
 "cells": [
  {
   "cell_type": "markdown",
   "id": "be275bd7",
   "metadata": {},
   "source": [
    "# LIST"
   ]
  },
  {
   "cell_type": "code",
   "execution_count": null,
   "id": "b86e6262",
   "metadata": {},
   "outputs": [],
   "source": [
    "# -List is use to store data .\n",
    "\n",
    "\n",
    "# PROPERTIES OF LIST=\n",
    "\n",
    "# 1)Mutiable data type\n",
    "# 2)Ordered data type\n",
    "# 3)Duplicate items are allowed\n",
    "# 4)Hetrogenious objects \n",
    "# 5)Indexing and slicing possible"
   ]
  },
  {
   "cell_type": "code",
   "execution_count": 4,
   "id": "4afb750e",
   "metadata": {},
   "outputs": [
    {
     "name": "stdout",
     "output_type": "stream",
     "text": [
      "<class 'list'>\n",
      "<class 'tuple'>\n",
      "<class 'set'>\n"
     ]
    }
   ],
   "source": [
    "a = ['a','b','c','d']\n",
    "b = ('a','b','c','d')\n",
    "c = {'a','b','c','d'}\n",
    "\n",
    "print(type(a))\n",
    "print(type(b))\n",
    "print(type(c))"
   ]
  },
  {
   "cell_type": "code",
   "execution_count": 20,
   "id": "af83ca3c",
   "metadata": {},
   "outputs": [
    {
     "name": "stdout",
     "output_type": "stream",
     "text": [
      "[12, 'shubham', 'python', 35.4, (7, 5), {3, 4, 5}, {'A': 100}]\n",
      "Type of num1 =  <class 'list'>\n"
     ]
    }
   ],
   "source": [
    "#Hetrogenious objects\n",
    "\n",
    "num1 = [12,'shubham' ,'python' , 35.4 ,(7,5) ,{3,4,5} ,{'A' : 100}]\n",
    "        \n",
    "print(num1)        \n",
    "print('Type of num1 = ' ,type(num1))"
   ]
  },
  {
   "cell_type": "code",
   "execution_count": 27,
   "id": "ca14e086",
   "metadata": {},
   "outputs": [
    {
     "name": "stdout",
     "output_type": "stream",
     "text": [
      "[100, 244, 'shubham', 500, 4.5]\n",
      "['python', 244, 'shubham', 500, 4.5]\n"
     ]
    }
   ],
   "source": [
    "#Mutibale data type\n",
    "\n",
    "men1 = [100,244,'shubham' ,500 ,4.5]\n",
    "print(men1)\n",
    "men1[0] = 'python'\n",
    "print(men1)"
   ]
  },
  {
   "cell_type": "code",
   "execution_count": 13,
   "id": "cb0c25b7",
   "metadata": {},
   "outputs": [
    {
     "name": "stdout",
     "output_type": "stream",
     "text": [
      "[555, 'python', 5.5]\n"
     ]
    }
   ],
   "source": [
    "#Slicing in list\n",
    "\n",
    "list1 = [555 , 'python' , 5.5 ,[1,2,3] ,(1,2,3,4) ]\n",
    "\n",
    "print(list1[0:3])\n",
    "print(list1[])\n"
   ]
  },
  {
   "cell_type": "code",
   "execution_count": 29,
   "id": "a09069f1",
   "metadata": {},
   "outputs": [
    {
     "name": "stdout",
     "output_type": "stream",
     "text": [
      "[30, 20]\n"
     ]
    }
   ],
   "source": [
    "#step slicing\n",
    "\n",
    "list2 = [10,20,30,40,50]\n",
    "\n",
    "print(list2[-3:-5:-1])"
   ]
  },
  {
   "cell_type": "code",
   "execution_count": 57,
   "id": "3844b73f",
   "metadata": {},
   "outputs": [
    {
     "name": "stdout",
     "output_type": "stream",
     "text": [
      "Numbers greater than 4 are =  4\n",
      "6\n"
     ]
    }
   ],
   "source": [
    "#Accessing lsit by for loop\n",
    "\n",
    "s = [1,2,1,2,4,2,3,4,5,6]\n",
    "\n",
    "t = 0\n",
    "v = 0\n",
    "\n",
    "for i in s:\n",
    "    if i >= 4:\n",
    "        t = t + 1\n",
    "        \n",
    "    else:\n",
    "        v = v + 1\n",
    "        \n",
    "print('Numbers greater than 4 are = ' , t)\n",
    "print(v)"
   ]
  },
  {
   "cell_type": "markdown",
   "id": "235bcbfe",
   "metadata": {},
   "source": [
    "# LIST FUNCTIONS"
   ]
  },
  {
   "cell_type": "markdown",
   "id": "136bfec2",
   "metadata": {},
   "source": [
    "# .append()"
   ]
  },
  {
   "cell_type": "code",
   "execution_count": 1,
   "id": "c10060f7",
   "metadata": {},
   "outputs": [
    {
     "name": "stdout",
     "output_type": "stream",
     "text": [
      "['python', 'i', 'a', 'programing', 'language']\n"
     ]
    }
   ],
   "source": [
    "#Python’s append() function inserts a single element into an existing list.\n",
    "#The element will be added to the end of the old list rather than being returned to a new list\n",
    "\n",
    "class1 = [\"python\" , 'i' , \"a\" ,'programing' ]\n",
    "\n",
    "class1.append('language')\n",
    "print(class1)"
   ]
  },
  {
   "cell_type": "code",
   "execution_count": 4,
   "id": "ce356aaf",
   "metadata": {},
   "outputs": [
    {
     "name": "stdout",
     "output_type": "stream",
     "text": [
      "[0, 2, 4, 6, 8, [0, -2, -4, -6, -8]]\n"
     ]
    }
   ],
   "source": [
    "m = [0,2,4,6,8]\n",
    "l = [0,-2,-4,-6,-8]\n",
    "\n",
    "m.append(l)\n",
    "print(m)"
   ]
  },
  {
   "cell_type": "markdown",
   "id": "5ed00deb",
   "metadata": {},
   "source": [
    "# .extend()"
   ]
  },
  {
   "cell_type": "code",
   "execution_count": 5,
   "id": "d6cd0ff2",
   "metadata": {},
   "outputs": [
    {
     "name": "stdout",
     "output_type": "stream",
     "text": [
      "[0, 2, [0, -2, -4, -6, -8], 4, 6, 8]\n"
     ]
    }
   ],
   "source": [
    "#Adding each element to the list and extending the list\n",
    "#removes bracket , square brackets etc\n",
    "\n",
    "m = [0,2,4,6,8]\n",
    "l = [0,-2,-4,-6,-8]\n",
    "\n",
    "m.insert(2,l)\n",
    "print(m)"
   ]
  },
  {
   "cell_type": "markdown",
   "id": "0af3696d",
   "metadata": {},
   "source": [
    "# .insert()"
   ]
  },
  {
   "cell_type": "code",
   "execution_count": 73,
   "id": "cb8f2d60",
   "metadata": {},
   "outputs": [
    {
     "name": "stdout",
     "output_type": "stream",
     "text": [
      "[13, 'city', 'beautiful', 7.7, 'sangli']\n"
     ]
    }
   ],
   "source": [
    "# Inserts a given element at a given index in a list \n",
    "\n",
    "# syntex = list_name.insert(index, element) \n",
    "\n",
    "f = [13,'city' , 7.7 , 'sangli']\n",
    "\n",
    "f.insert(2 ,'beautiful')\n",
    "print(f)"
   ]
  },
  {
   "cell_type": "markdown",
   "id": "0eeef3a9",
   "metadata": {},
   "source": [
    "# DELETE ITEMS FORM LIST"
   ]
  },
  {
   "cell_type": "code",
   "execution_count": null,
   "id": "00e3a56c",
   "metadata": {},
   "outputs": [],
   "source": [
    "# 1)Remove\n",
    "# 2)Pop\n",
    "# 3)Clear\n",
    "# 4)del keyword"
   ]
  },
  {
   "cell_type": "code",
   "execution_count": 8,
   "id": "82eb6776",
   "metadata": {},
   "outputs": [
    {
     "data": {
      "text/plain": [
       "[2, 'python', 35, 2, 60]"
      ]
     },
     "execution_count": 8,
     "metadata": {},
     "output_type": "execute_result"
    }
   ],
   "source": [
    "# 1)Remove -\n",
    "#         It removes exact value . Removes only first occured value.\n",
    "\n",
    "A = [2,'python' , 35 ,2, 40 ,60]\n",
    "    \n",
    "A.remove(40)\n",
    "A"
   ]
  },
  {
   "cell_type": "code",
   "execution_count": null,
   "id": "ce42a765",
   "metadata": {},
   "outputs": [],
   "source": []
  },
  {
   "cell_type": "code",
   "execution_count": 4,
   "id": "7bb12555",
   "metadata": {},
   "outputs": [
    {
     "data": {
      "text/plain": [
       "([1, 2], [1, 2])"
      ]
     },
     "execution_count": 4,
     "metadata": {},
     "output_type": "execute_result"
    }
   ],
   "source": [
    "x = [[1]] * 2\n",
    "x[0].append(2)\n",
    "\n",
    "\n",
    "[1,2] , [1,2]"
   ]
  },
  {
   "cell_type": "code",
   "execution_count": 5,
   "id": "b8edc4c5",
   "metadata": {},
   "outputs": [
    {
     "name": "stdout",
     "output_type": "stream",
     "text": [
      "python\n"
     ]
    }
   ],
   "source": [
    "name =['shubham']\n",
    "name.append('python')\n",
    "print(name[1])\n"
   ]
  },
  {
   "cell_type": "code",
   "execution_count": 6,
   "id": "01e4a39c",
   "metadata": {},
   "outputs": [
    {
     "name": "stdout",
     "output_type": "stream",
     "text": [
      "True\n"
     ]
    }
   ],
   "source": [
    "var1 = True\n",
    "var2 = False\n",
    "var3 = False  \n",
    "\n",
    "if var1 or var2 and var3 :   #True or False and False\n",
    "    print('True')\n",
    "    \n",
    "else:\n",
    "    print('False')\n",
    "    "
   ]
  },
  {
   "cell_type": "code",
   "execution_count": 10,
   "id": "77d2f0d4",
   "metadata": {},
   "outputs": [
    {
     "name": "stdout",
     "output_type": "stream",
     "text": [
      "False\n",
      "<class 'dict'>\n",
      "<class 'set'>\n"
     ]
    }
   ],
   "source": [
    "a = {}\n",
    "b = {1}\n",
    "\n",
    "print(type(a) == type(b))\n",
    "print(type(a))\n",
    "print(type(b))\n"
   ]
  },
  {
   "cell_type": "code",
   "execution_count": 9,
   "id": "aaa911dc",
   "metadata": {},
   "outputs": [
    {
     "name": "stdout",
     "output_type": "stream",
     "text": [
      "hellobye\n",
      "hellohellohellohellohellohellohellohellohellohellohellohellohello\n"
     ]
    }
   ],
   "source": [
    "a1 = 'hello'\n",
    "b1 = 'bye'\n",
    "c1 = 15\n",
    "d1 = 13\n",
    "\n",
    "print(a1 + b1)\n",
    "print(a1 + c1)\n",
    "print(a1 * d1)"
   ]
  },
  {
   "cell_type": "code",
   "execution_count": null,
   "id": "c2005720",
   "metadata": {},
   "outputs": [],
   "source": []
  },
  {
   "cell_type": "code",
   "execution_count": null,
   "id": "ea1332db",
   "metadata": {},
   "outputs": [],
   "source": []
  },
  {
   "cell_type": "markdown",
   "id": "028092b8",
   "metadata": {},
   "source": [
    "# Questions"
   ]
  },
  {
   "cell_type": "code",
   "execution_count": 15,
   "id": "cd4f4e2d",
   "metadata": {},
   "outputs": [],
   "source": [
    " \n",
    "\n",
    "x = [[1]] * 2\n",
    "x[0].append(2)\n",
    "\n"
   ]
  },
  {
   "cell_type": "code",
   "execution_count": null,
   "id": "14caf65d",
   "metadata": {},
   "outputs": [],
   "source": [
    "# 2)\n",
    "# name =['shubham']\n",
    "# name.append('python')\n",
    "# print(name[1])\n",
    "\n",
    "# 3)\n",
    "# var1 = True\n",
    "# var2 = False\n",
    "# var3 = False  \n",
    "\n",
    "# if var1 or var2 and var3 :\n",
    "#     print('True')\n",
    "    \n",
    "# else:\n",
    "#     print('False')\n",
    "    \n",
    "    \n",
    "# 4)\n",
    "# a = {}\n",
    "# b = {1}\n",
    "\n",
    "# print(type(a) = type(b))\n",
    "\n",
    "\n",
    "# 5)\n",
    "# a1 = 'hello'\n",
    "# b1 = 'bye'\n",
    "# c1 = 15\n",
    "# d1 = 13\n",
    "\n",
    "# print(a1 + b1)\n",
    "# print(a1 + c1)\n",
    "# print(a1 * d1)"
   ]
  }
 ],
 "metadata": {
  "kernelspec": {
   "display_name": "Python 3 (ipykernel)",
   "language": "python",
   "name": "python3"
  },
  "language_info": {
   "codemirror_mode": {
    "name": "ipython",
    "version": 3
   },
   "file_extension": ".py",
   "mimetype": "text/x-python",
   "name": "python",
   "nbconvert_exporter": "python",
   "pygments_lexer": "ipython3",
   "version": "3.10.6"
  }
 },
 "nbformat": 4,
 "nbformat_minor": 5
}
